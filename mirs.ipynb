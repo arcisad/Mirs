{
 "cells": [
  {
   "cell_type": "code",
   "execution_count": 1,
   "metadata": {
    "colab": {
     "base_uri": "https://localhost:8080/",
     "height": 34
    },
    "colab_type": "code",
    "id": "MU8i1RCcOcVu",
    "outputId": "a24cf8cd-afdb-4fb6-ca09-11937ca2e6dd"
   },
   "outputs": [
    {
     "name": "stderr",
     "output_type": "stream",
     "text": [
      "Using TensorFlow backend.\n"
     ]
    }
   ],
   "source": [
    "# %matplotlib notebook\n",
    "import os\n",
    "import numpy as np\n",
    "import pydicom\n",
    "import matplotlib.pyplot as plt\n",
    "import cv2\n",
    "from skimage import morphology\n",
    "import pyprind\n",
    "import tensorflow as tf\n",
    "from keras import layers, losses, optimizers\n",
    "from keras.models import *\n",
    "from keras.layers import *\n",
    "from keras.callbacks import EarlyStopping, Callback\n",
    "from keras.preprocessing.image import ImageDataGenerator\n",
    "from sklearn.model_selection import train_test_split\n",
    "from IPython.display import clear_output\n",
    "np.set_printoptions(suppress=True)"
   ]
  },
  {
   "cell_type": "markdown",
   "metadata": {
    "colab_type": "text",
    "id": "64HKaFpayQAi"
   },
   "source": [
    "## Calculating max and mean density and center of the scan volume."
   ]
  },
  {
   "cell_type": "code",
   "execution_count": 0,
   "metadata": {
    "colab": {},
    "colab_type": "code",
    "id": "YEzmwFZzOcVy"
   },
   "outputs": [],
   "source": [
    "class dicom_object(object):\n",
    "    def __init__(self, image_path):\n",
    "        self.image_path = image_path\n",
    "        self.lis = [file for file in sorted(os.listdir(self.image_path))]\n",
    "        \n",
    "    ## Reading the files meta data\n",
    "    def getmeta(self):\n",
    "        f1 = self.lis[0]\n",
    "        ds1 = pydicom.dcmread(self.image_path + '/' + f1)\n",
    "        f2 = self.lis[1]\n",
    "        ds2 = pydicom.dcmread(self.image_path + '/' + f2)\n",
    "        xdim = int(ds1.Rows)\n",
    "        ydim = int(ds1.Columns)\n",
    "        slice_spacing = np.round(ds2.SliceLocation - ds1.SliceLocation, 5)\n",
    "        pixel_spacing = float(ds1.PixelSpacing[0])\n",
    "        slice_thickness = float(ds1.SliceThickness)\n",
    "\n",
    "        print(\"Pixel sizes(x, y), Pixel spacing, Slice spacing, Slice thikness = \" \\\n",
    "              + str(xdim) + \", \" + str(ydim) + \", \" + str(pixel_spacing) + \", \" \\\n",
    "              + str(slice_spacing) + \", \", str(slice_thickness))\n",
    "        print('Number of slices: {0}'.format(len(self.lis)))\n",
    "\n",
    "        return [xdim, ydim, pixel_spacing, slice_spacing, slice_thickness, len(self.lis)]\n",
    "    \n",
    "    ## Hounsfield unit -2048 is the margins and therefore removed\n",
    "    ## Getting mas density\n",
    "    def get_max_intensity(self):\n",
    "        num_files = len(self.lis)\n",
    "        f1 = self.lis[0]\n",
    "        ds1 = ds1 = pydicom.dcmread(self.image_path + '/' + f1)\n",
    "        pix_array = ds1.pixel_array\n",
    "        pix_array[pix_array == -2048] = 0\n",
    "        max_intensity = pix_array.max()\n",
    "        for i in range(1, num_files):\n",
    "            f1 = self.lis[i]\n",
    "            ds1 = ds1 = pydicom.dcmread(self.image_path + '/' + f1)\n",
    "            pix_array = ds1.pixel_array\n",
    "            pix_array[pix_array == -2048] = 0\n",
    "            if pix_array.max() > max_intensity:\n",
    "                max_intensity = pix_array.max()\n",
    "        return max_intensity\n",
    "    \n",
    "    ## Getting mean density\n",
    "    def get_mean_intensity(self):\n",
    "        num_files = len(self.lis)\n",
    "        f1 = self.lis[0]\n",
    "        ds1 = ds1 = pydicom.dcmread(self.image_path + '/' + f1)\n",
    "        pix_array = ds1.pixel_array\n",
    "        pix_array[pix_array == -2048] = 0\n",
    "        mean_intensity = pix_array.mean()\n",
    "        for i in range(1, num_files):\n",
    "            f1 = self.lis[i]\n",
    "            ds1 = ds1 = pydicom.dcmread(self.image_path + '/' + f1)\n",
    "            pix_array = ds1.pixel_array\n",
    "            pix_array[pix_array == -2048] = 0\n",
    "            mean_intensity += pix_array.mean()\n",
    "        return int(np.round(mean_intensity / num_files, 7))\n",
    "    \n",
    "    ## Transformin from ijk to scanner coordinates using affine transformation\n",
    "    ## This function first finds the middle slice in the scan and then calculates the center of the volume accordingly\n",
    "    def get_center(self):\n",
    "        meta = self.getmeta()\n",
    "        x = meta[0] / 2\n",
    "        y = meta[1] / 2\n",
    "        ds = pydicom.dcmread(PATH + '/' + self.lis[int(len(self.lis)/2)])\n",
    "        pos = self.affine_transform(x, y, ds)\n",
    "        return pos\n",
    "    \n",
    "    ## Affine transformation function\n",
    "    ## https://nipy.org/nibabel/dicom/dicom_orientation.html#dicom-slice-affine\n",
    "    ## https://www.slicer.org/wiki/Coordinate_systems\n",
    "    def affine_transform(self, x, y, scan):\n",
    "        pos = [float(x) for x in scan.ImagePositionPatient]\n",
    "        ori = [float(x) for x in scan.ImageOrientationPatient]\n",
    "        pixel_spacing = float(scan.PixelSpacing[0])\n",
    "        T = np.array(pos + [1])\n",
    "        R = pixel_spacing * np.array(ori[0:3] + [0])\n",
    "        C = pixel_spacing * np.array(ori[3:6] + [0])\n",
    "        M = np.zeros((4, 4))\n",
    "        M[:, 0] = R\n",
    "        M[:, 1] = C\n",
    "        M[:, 3] = T\n",
    "        vox = np.array([x, y, 0, 1])\n",
    "        return np.matmul(M, vox)[:3]"
   ]
  },
  {
   "cell_type": "markdown",
   "metadata": {
    "colab_type": "text",
    "id": "hhWAJCq0yQAm"
   },
   "source": [
    "Image processing for detecting metal objects.\n",
    "writes the output to binary mask files. Metals have much higher inensities compared to tissues and bones. \n",
    "Therefore thresholding and a morphology opening (erosion followed by dilation) is applicable"
   ]
  },
  {
   "cell_type": "code",
   "execution_count": 0,
   "metadata": {
    "colab": {},
    "colab_type": "code",
    "id": "epNkgXNtOcV1"
   },
   "outputs": [],
   "source": [
    "class mask_object(object):\n",
    "    def __init__(self, image_path, out_path):\n",
    "        self.image_path = image_path\n",
    "        self.out_path = out_path\n",
    "        self.lis = [file for file in sorted(os.listdir(self.image_path))]\n",
    "        if not os.path.isdir(self.out_path):\n",
    "            os.mkdir(self.out_path)\n",
    "        \n",
    "    def get_mask(self):\n",
    "        prog = pyprind.ProgBar(len(self.lis), title='Processing images...')\n",
    "        for file in self.lis:\n",
    "            ds1 = pydicom.dcmread(self.image_path + '/' + file)\n",
    "            image = ds1.pixel_array\n",
    "            image[image == -2048] = 0\n",
    "            image[image < 2500] = 0\n",
    "            binary = np.where(image < 4000, 0, 1)\n",
    "            binary = morphology.opening(binary)\n",
    "            binary = np.where(binary == 0, 0, 255)\n",
    "            cv2.imwrite(self.out_path + '/' + file + '.tif', binary)\n",
    "            prog.update()"
   ]
  },
  {
   "cell_type": "markdown",
   "metadata": {
    "colab_type": "text",
    "id": "M_qaEP8ZyQAq"
   },
   "source": [
    "A U-net DNN class. U-net is an upgrade to previous networks such as FCNs (Fully convolutional networks),\n",
    "and it is especifically designed for medical image segmentation.\n",
    "\n",
    " https://colab.research.google.com/drive/1BgCDxVdVc0MAe_kC0waMGUV9ShcWW0hM#scrollTo=hw66ln2H3YzQ\n",
    " \n",
    " https://github.com/zhixuhao/unet/blob/master/model.py\n",
    " \n",
    " https://www.kaggle.com/weiji14/yet-another-keras-u-net-data-augmentation"
   ]
  },
  {
   "cell_type": "code",
   "execution_count": 0,
   "metadata": {
    "colab": {},
    "colab_type": "code",
    "id": "UNdZLYH3OcV4"
   },
   "outputs": [],
   "source": [
    "class unet_object(object):\n",
    "    def __init__(self, \n",
    "                 image_path,\n",
    "                 masks_path,\n",
    "                 num_epochs = 10,\n",
    "                 batch_size = 15,\n",
    "                 learning_rate=0.0001,\n",
    "                 dropout=0.5,\n",
    "                 iou_metric=False,\n",
    "                 height=512,\n",
    "                 width=512,\n",
    "                 dim=1):\n",
    "        self.image_path = image_path\n",
    "        self.masks_path = masks_path\n",
    "        self.num_epochs = num_epochs\n",
    "        self.batch_size = batch_size\n",
    "        self.learning_rate = learning_rate\n",
    "        self.dropout = dropout\n",
    "        self.iou_metric = iou_metric\n",
    "        self.height = height\n",
    "        self.width = width\n",
    "        self.dim = dim\n",
    "        self.lis = [file for file in sorted(os.listdir(self.image_path))]\n",
    "        self.UU = self.unet_unit(self.height, self.width, self.dim)\n",
    "        optimizer = optimizers.Adam(self.learning_rate)\n",
    "        \n",
    "        if self.iou_metric:\n",
    "            metric = [self.mean_iou]\n",
    "        else:\n",
    "            metric = ['accuracy']\n",
    "            \n",
    "        weights=np.array([1.0, 50.0])\n",
    "        self.UU.compile(loss=self.weighted_categorical_crossentropy(weights), \n",
    "                        optimizer=optimizer, \n",
    "                        metrics=metric)\n",
    "\n",
    "    ## downsampling function (Convolutional layer)\n",
    "    def downsample_unit(self, dim):\n",
    "        dsu = Conv2D(dim, 3, strides=1, padding='same', \n",
    "                     activation='relu',\n",
    "                     kernel_initializer = 'he_normal')\n",
    "        return dsu\n",
    "    \n",
    "    ## upsampling function (Deconvolution layer)\n",
    "    def upsample_unit(self, dim):\n",
    "        usu = Conv2DTranspose(dim, 3, strides=2, padding='same')\n",
    "        return usu\n",
    "    \n",
    "    ## model structure\n",
    "    def unet_unit(self, height, width, dim):\n",
    "        uu = Sequential()\n",
    "        \n",
    "        # left\n",
    "        input_shape = (height, width, dim)\n",
    "        inputs = Input(input_shape)\n",
    "        conv1 = self.downsample_unit(64)(inputs)\n",
    "        conv1 = self.downsample_unit(64)(conv1)\n",
    "        pool1 = MaxPooling2D(pool_size=2, strides=2, padding='valid')(conv1)\n",
    "        \n",
    "        conv2 = self.downsample_unit(128)(pool1)\n",
    "        conv2 = self.downsample_unit(128)(conv2)\n",
    "        pool2 = MaxPooling2D(pool_size=2, strides=2, padding='valid')(conv2)\n",
    "        \n",
    "        conv3 = self.downsample_unit(256)(pool2)\n",
    "        conv3 = self.downsample_unit(256)(conv3)\n",
    "        pool3 = MaxPooling2D(pool_size=2, strides=2, padding='valid')(conv3)\n",
    "\n",
    "        conv4 = self.downsample_unit(512)(pool3)\n",
    "        conv4 = self.downsample_unit(512)(conv4)\n",
    "        drop4 = Dropout(self.dropout)(conv4)\n",
    "        pool4 = MaxPooling2D(pool_size=2, strides=2, padding='valid')(drop4)\n",
    "        \n",
    "        conv5=self.downsample_unit(1024)(pool4)\n",
    "        conv5=self.downsample_unit(1024)(conv5)\n",
    "        drop5 = Dropout(self.dropout)(conv5)\n",
    "        \n",
    "        # right\n",
    "        up6 = self.upsample_unit(512)(drop5)\n",
    "        merge6 = concatenate([drop4,up6], axis = 3)\n",
    "        conv6 = self.downsample_unit(512)(merge6)\n",
    "        conv6 = self.downsample_unit(512)(conv6)\n",
    "        \n",
    "        up7 = self.upsample_unit(256)(conv6)\n",
    "        merge7 = concatenate([conv3,up7], axis = 3)\n",
    "        conv7 = self.downsample_unit(256)(merge7)\n",
    "        conv7 = self.downsample_unit(256)(conv7)\n",
    "        \n",
    "        up8 = self.upsample_unit(128)(conv7)\n",
    "        merge8 = concatenate([conv2,up8], axis = 3)\n",
    "        conv8 = self.downsample_unit(128)(merge8)\n",
    "        conv8 = self.downsample_unit(128)(conv8)\n",
    "        \n",
    "        up9 = self.upsample_unit(64)(conv8)\n",
    "        merge9 = concatenate([conv1,up9], axis = 3)\n",
    "        conv9 = self.downsample_unit(64)(merge9)\n",
    "        conv9 = self.downsample_unit(64)(conv9)\n",
    "        \n",
    "        conv10 = self.downsample_unit(2)(conv9)\n",
    "        conv11 = Conv2D(1, 1, activation = 'sigmoid')(conv10)\n",
    "        \n",
    "        uu = Model(input = inputs, output = conv11)\n",
    "        return uu\n",
    "    \n",
    "    ## getting the ct images\n",
    "    def get_image_stack(self):\n",
    "        scans = [pydicom.dcmread(self.image_path + '/' + s) for s in self.lis]\n",
    "        img = np.stack([s.pixel_array for s in scans])\n",
    "        img[img == -2048] = 0\n",
    "        img = np.stack([(x - x.min())/(x.max()-x.min()) - 0.5 for x in list(img)])\n",
    "        img = img.astype(np.float32)\n",
    "        return np.expand_dims(img, 3)\n",
    "    \n",
    "    ## getting the masks\n",
    "    def get_masks_stack(self):\n",
    "        masks_list = sorted(os.listdir(self.masks_path))\n",
    "        masks = [plt.imread(self.masks_path + '/' + s) for s in masks_list]\n",
    "        img = np.stack([s for s in masks])\n",
    "        img = (img / 255).astype(np.float32)\n",
    "        return np.expand_dims(img, 3)\n",
    "    \n",
    "    ## train function\n",
    "    def train(self):\n",
    "        train_generator, test_generator = self.get_augmented_data()\n",
    "        self.UU.fit_generator(train_generator, validation_data=test_generator, \n",
    "                            validation_steps=self.batch_size/2,\n",
    "                            steps_per_epoch=len(self.get_image_stack())/(self.batch_size*2), \n",
    "                            epochs=self.num_epochs)\n",
    "        \n",
    "    def predict(self, image_stack):\n",
    "        scans = [pydicom.dcmread(self.image_path + '/' + s) for s in sorted(image_stack)]\n",
    "        img = np.stack([s.pixel_array for s in scans])\n",
    "        img[img == -2048] = 0\n",
    "        img = np.stack([(x - x.min())/(x.max()-x.min()) for x in list(img)])\n",
    "        img = img.astype(np.float32)\n",
    "        img = np.expand_dims(img, 3)\n",
    "        return np.squeeze(self.UU.predict(img, batch_size=len(img)))        \n",
    "          \n",
    "    ## https://gist.github.com/wassname/ce364fddfc8a025bfab4348cf5de852d\n",
    "    ## Custom IoU metric. A metric for Intersection over Union. In object detection tasks,\n",
    "    ## this metric provides a measure for evaluating how well the bounding or object box is fittes on the object\n",
    "    def mean_iou(self, y_true, y_pred):\n",
    "        prec = []\n",
    "        for t in np.arange(0.5, 1.0, 0.05):\n",
    "            y_pred_ = tf.to_int32(y_pred > t)\n",
    "            score, up_opt = tf.metrics.mean_iou(y_true, y_pred_, 2)\n",
    "            K.get_session().run(tf.local_variables_initializer())\n",
    "            with tf.control_dependencies([up_opt]):\n",
    "                score = tf.identity(score)\n",
    "                prec.append(score)\n",
    "        return K.mean(K.stack(prec), axis=0) \n",
    "\n",
    "    ## https://gist.github.com/wassname/ce364fddfc8a025bfab4348cf5de852d\n",
    "    ## A weighted cross entropy loss. This is required as there is a big class imbalance in the data\n",
    "    def weighted_categorical_crossentropy(self, weights):\n",
    "      \n",
    "        weights = K.variable(weights)\n",
    "\n",
    "        def loss(y_true, y_pred):\n",
    "            # scale predictions so that the class probas of each sample sum to 1\n",
    "            y_pred /= K.sum(y_pred, axis=-1, keepdims=True)\n",
    "            # clip to prevent NaN's and Inf's\n",
    "            y_pred = K.clip(y_pred, K.epsilon(), 1 - K.epsilon())\n",
    "            # calc\n",
    "            loss = y_true * K.log(y_pred) * weights\n",
    "            loss = -K.sum(loss, -1)\n",
    "            return loss\n",
    "\n",
    "        return loss\n",
    "  \n",
    "    ## data generator. \n",
    "    ## The number of images is not enough for training such a big DNN. \n",
    "    ## data augmentation is required. This function generates extra images and feeds to the DNN.\n",
    "    def get_augmented_data(self):\n",
    "        X_train, X_test, y_train, y_test = train_test_split(self.get_image_stack(),\n",
    "                                                    self.get_masks_stack(),\n",
    "                                                    test_size=0.1,\n",
    "                                                    random_state=0)\n",
    "        ## dictionary for image manipulation\n",
    "        data_gen_args = dict(rotation_range=45.,\n",
    "                             width_shift_range=0.1,\n",
    "                             height_shift_range=0.1,\n",
    "                             shear_range=0.2,\n",
    "                             zoom_range=0.2,\n",
    "                             horizontal_flip=True,\n",
    "                             vertical_flip=True,\n",
    "                             fill_mode='reflect')\n",
    "        X_gen = ImageDataGenerator(**data_gen_args)\n",
    "        Y_gen = ImageDataGenerator(**data_gen_args)\n",
    "        X_gen.fit(X_train, augment=True, seed=0)\n",
    "        Y_gen.fit(y_train, augment=True, seed=0)\n",
    "        X_train_augmented = X_gen.flow(X_train, batch_size=self.batch_size,\n",
    "                                         shuffle=True, seed=0)\n",
    "        Y_train_augmented = Y_gen.flow(y_train, batch_size=self.batch_size,\n",
    "                                         shuffle=True, seed=0)\n",
    "      \n",
    "        X_val = ImageDataGenerator()\n",
    "        Y_val = ImageDataGenerator()\n",
    "        X_val.fit(X_test, augment=True, seed=0)\n",
    "        Y_val.fit(y_test, augment=True, seed=0)\n",
    "        X_test_augmented = X_val.flow(X_test, batch_size=self.batch_size, \n",
    "                                    shuffle=True, seed=0)\n",
    "        Y_test_augmented = Y_val.flow(y_test, batch_size=self.batch_size, \n",
    "                                    shuffle=True, seed=0)\n",
    "      \n",
    "        train_generator = zip(X_train_augmented, Y_train_augmented)\n",
    "        test_generator = zip(X_test_augmented, Y_test_augmented)\n",
    "        return train_generator, test_generator"
   ]
  },
  {
   "cell_type": "markdown",
   "metadata": {
    "colab_type": "text",
    "id": "3Czgaf7_yQAt"
   },
   "source": [
    "#### Euclidian distance is usually used as a measure for evaluating similarity between images.\n",
    "#### Here for binary images it is basically equivalent to sum squared errors."
   ]
  },
  {
   "cell_type": "code",
   "execution_count": 0,
   "metadata": {
    "colab": {},
    "colab_type": "code",
    "id": "-V-t7czAXP7M"
   },
   "outputs": [],
   "source": [
    "def get_mse(mask_path, out_path):\n",
    "    error_list = []\n",
    "    for file in sorted(os.listdir(mask_path)):\n",
    "        mask = (plt.imread(mask_path + '/' + file) / 255).astype(int).flatten()\n",
    "        out = (plt.imread(out_path + '/' + file)).astype(int).flatten()\n",
    "        error_list.append(np.power(mask - out, 2).sum())\n",
    "    return error_list"
   ]
  },
  {
   "cell_type": "markdown",
   "metadata": {
    "colab_type": "text",
    "id": "RfFclnfwyQAx"
   },
   "source": [
    "Image and mas paths."
   ]
  },
  {
   "cell_type": "code",
   "execution_count": 0,
   "metadata": {
    "colab": {},
    "colab_type": "code",
    "id": "NLg-2z41OcV7"
   },
   "outputs": [],
   "source": [
    "PATH = 'ct'\n",
    "OUT_PATH = 'masks'"
   ]
  },
  {
   "cell_type": "markdown",
   "metadata": {
    "colab_type": "text",
    "id": "Xeewq07wyQA1"
   },
   "source": [
    "Getting mmax, mean and scan centre"
   ]
  },
  {
   "cell_type": "code",
   "execution_count": 0,
   "metadata": {
    "colab": {},
    "colab_type": "code",
    "id": "HN7ankRfOcV-",
    "outputId": "91100097-dc33-40bd-88e1-754f9580ad46"
   },
   "outputs": [
    {
     "name": "stdout",
     "output_type": "stream",
     "text": [
      "Scan max intensity is 20973 Hounsfield units\n",
      "Scan mean intensity is -453 Hounsfield units\n",
      "Pixel sizes(x, y), Pixel spacing, Slice spacing, Slice thikness = 512, 512, 0.976, 1.6,  2.0\n",
      "Number of slices: 200\n",
      "Scan volume center is at x: 0.8326, y: 28.1764, z: 1205.599\n"
     ]
    }
   ],
   "source": [
    "ob = dicom_object(PATH)\n",
    "maxint = ob.get_max_intensity()\n",
    "print('Scan max intensity is {0} Hounsfield units'.format(maxint))\n",
    "\n",
    "meanint = ob.get_mean_intensity()\n",
    "print('Scan mean intensity is {0} Hounsfield units'.format(meanint))\n",
    "\n",
    "pos = ob.get_center()\n",
    "print('Scan volume center is at x: {0}, y: {1}, z: {2}'.format(np.round(pos[0], 4), np.round(pos[1], 4), np.round(pos[2], 4)))"
   ]
  },
  {
   "cell_type": "markdown",
   "metadata": {
    "colab_type": "text",
    "id": "1-jJy3TDyQA8"
   },
   "source": [
    "Image processing and storing masks"
   ]
  },
  {
   "cell_type": "code",
   "execution_count": 0,
   "metadata": {
    "colab": {},
    "colab_type": "code",
    "id": "n6BThE7IOcWN"
   },
   "outputs": [],
   "source": [
    "mo = mask_object(PATH, OUT_PATH)\n",
    "mo.get_mask()"
   ]
  },
  {
   "cell_type": "markdown",
   "metadata": {
    "colab_type": "text",
    "id": "81kh6XfWyQA_"
   },
   "source": [
    "### U-net model"
   ]
  },
  {
   "cell_type": "code",
   "execution_count": 0,
   "metadata": {
    "colab": {
     "base_uri": "https://localhost:8080/",
     "height": 34
    },
    "colab_type": "code",
    "id": "OndcN3qOOcWS",
    "outputId": "ae754089-33f8-484c-a693-668b7ddc5717"
   },
   "outputs": [
    {
     "name": "stderr",
     "output_type": "stream",
     "text": [
      "/usr/local/lib/python3.6/dist-packages/ipykernel_launcher.py:99: UserWarning: Update your `Model` call to the Keras 2 API: `Model(inputs=Tensor(\"in..., outputs=Tensor(\"co...)`\n"
     ]
    }
   ],
   "source": [
    "model = unet_object('ct', 'masks', num_epochs=5, batch_size=2, learning_rate=1e-8)"
   ]
  },
  {
   "cell_type": "code",
   "execution_count": 0,
   "metadata": {
    "colab": {},
    "colab_type": "code",
    "id": "lEKYkGODvUzV"
   },
   "outputs": [],
   "source": [
    "# model.UU.summary()"
   ]
  },
  {
   "cell_type": "code",
   "execution_count": 0,
   "metadata": {
    "colab": {
     "base_uri": "https://localhost:8080/",
     "height": 187
    },
    "colab_type": "code",
    "id": "JTc_ScBLOcWV",
    "outputId": "4d074976-25d2-4b77-cb00-26477a9d9c9c"
   },
   "outputs": [
    {
     "name": "stdout",
     "output_type": "stream",
     "text": [
      "Epoch 1/5\n",
      "50/50 [==============================] - 33s 657ms/step - loss: 2.1946e-09 - acc: 0.8924 - val_loss: 1.7394e-09 - val_acc: 0.9067\n",
      "Epoch 2/5\n",
      "50/50 [==============================] - 28s 553ms/step - loss: 2.3177e-09 - acc: 0.8953 - val_loss: 0.0000e+00 - val_acc: 0.8235\n",
      "Epoch 3/5\n",
      "50/50 [==============================] - 27s 537ms/step - loss: 2.1308e-09 - acc: 0.8883 - val_loss: 2.3076e-09 - val_acc: 0.8488\n",
      "Epoch 4/5\n",
      "50/50 [==============================] - 27s 532ms/step - loss: 2.2986e-09 - acc: 0.8939 - val_loss: 1.7278e-09 - val_acc: 0.9627\n",
      "Epoch 5/5\n",
      "50/50 [==============================] - 27s 540ms/step - loss: 1.9199e-09 - acc: 0.8939 - val_loss: 3.0498e-09 - val_acc: 0.9888\n"
     ]
    }
   ],
   "source": [
    "model.train()"
   ]
  },
  {
   "cell_type": "markdown",
   "metadata": {
    "colab_type": "text",
    "id": "JL8GR1XryQBU"
   },
   "source": [
    "Saving model weights for later use."
   ]
  },
  {
   "cell_type": "code",
   "execution_count": 0,
   "metadata": {
    "colab": {},
    "colab_type": "code",
    "id": "iZG8MBaZKns9"
   },
   "outputs": [],
   "source": [
    "if not os.path.isdir('model20'):\n",
    "    os.mkdir('model20')\n",
    "model.UU.save_weights('model20/model20_weights.h5')"
   ]
  },
  {
   "cell_type": "markdown",
   "metadata": {
    "colab_type": "text",
    "id": "d6xlBWrzyQBX"
   },
   "source": [
    "Saving the masks!"
   ]
  },
  {
   "cell_type": "code",
   "execution_count": 0,
   "metadata": {
    "colab": {},
    "colab_type": "code",
    "id": "Ymab_QeczBpv"
   },
   "outputs": [],
   "source": [
    "model = unet_object('ct', 'masks')\n",
    "model.UU.load_weights('model20_weights.h5')"
   ]
  },
  {
   "cell_type": "code",
   "execution_count": 0,
   "metadata": {
    "colab": {},
    "colab_type": "code",
    "id": "TE0EhOF96HFo"
   },
   "outputs": [],
   "source": [
    "out_path = 'output'\n",
    "lis = [file for file in sorted(os.listdir('ct'))]\n",
    "if not os.path.isdir(out_path):\n",
    "    os.mkdir(out_path)\n",
    "for i in lis:\n",
    "    out = model.predict([i])\n",
    "    mask = np.where(out > 0.52, 1, 0)\n",
    "    cv2.imwrite(out_path + '/' + i + '.tif', mask)"
   ]
  },
  {
   "cell_type": "markdown",
   "metadata": {
    "colab_type": "text",
    "id": "lCIfx2B_yQBP"
   },
   "source": [
    "## Comparison between manual image processing (script) and U-net DNN"
   ]
  },
  {
   "cell_type": "code",
   "execution_count": 0,
   "metadata": {
    "colab": {
     "base_uri": "https://localhost:8080/",
     "height": 338
    },
    "colab_type": "code",
    "id": "h9LzD2nPdR4l",
    "outputId": "a0d1a5a7-705d-4e90-f57d-ef0b13ff0720"
   },
   "outputs": [
    {
     "data": {
      "image/png": "[encoded data removed]",
      "text/plain": [
       "<Figure size 1100x550 with 3 Axes>"
      ]
     },
     "metadata": {
      "tags": []
     },
     "output_type": "display_data"
    }
   ],
   "source": [
    "fig, axes = plt.subplots(ncols=3, figsize=(10, 5), dpi=110)\n",
    "ax = axes.ravel()\n",
    "ax[0] = plt.subplot(1, 3, 1)\n",
    "ax[1] = plt.subplot(1, 3, 2)\n",
    "ax[2] = plt.subplot(1, 3, 3, sharex=ax[0], sharey=ax[0])\n",
    "\n",
    "image = pydicom.dcmread('ct/IM00499')\n",
    "ax[0].imshow(image.pixel_array, cmap=plt.cm.gray)\n",
    "ax[0].set_title('Original')\n",
    "ax[0].axis('off')\n",
    "\n",
    "mask = plt.imread('masks/IM00499.tif')\n",
    "ax[1].imshow(mask, cmap=plt.cm.gray)\n",
    "ax[1].set_title('Manual')\n",
    "\n",
    "generated = plt.imread('output/IM00499.tif')\n",
    "ax[2].imshow(generated, cmap=plt.cm.gray)\n",
    "ax[2].set_title('DNN')\n",
    "ax[2].axis('off')\n",
    "\n",
    "plt.show()"
   ]
  },
  {
   "cell_type": "markdown",
   "metadata": {
    "colab_type": "text",
    "id": "Ke2hfvnzyQBb"
   },
   "source": [
    "## Evaluating sum squared error and cross-scan errors between manual and DNN generated masks."
   ]
  },
  {
   "cell_type": "code",
   "execution_count": 0,
   "metadata": {
    "colab": {
     "base_uri": "https://localhost:8080/",
     "height": 85
    },
    "colab_type": "code",
    "id": "0tebvrFvYwlk",
    "outputId": "58c12feb-48f1-4c07-f811-85d990221410"
   },
   "outputs": [
    {
     "name": "stdout",
     "output_type": "stream",
     "text": [
      "Mean error across all images: 13634.98\n",
      "Min error across all images: 21\n",
      "Max error across all images: 40060\n",
      "Error std across all images: 16142.15697\n"
     ]
    }
   ],
   "source": [
    "error = get_mse('masks', 'output')\n",
    "print('Mean error across all images: {0}'.format(np.round(np.array(error).mean(), 5)))\n",
    "print('Min error across all images: {0}'.format(np.round(np.array(error).min(), 5)))\n",
    "print('Max error across all images: {0}'.format(np.round(np.array(error).max(), 5)))\n",
    "print('Error std across all images: {0}'.format(np.round(np.array(error).std(), 5)))"
   ]
  },
  {
   "cell_type": "markdown",
   "metadata": {
    "colab_type": "text",
    "id": "VA0MtLTQyQBi"
   },
   "source": [
    "The masks are detected but for the scans without the metal objects there was a misclassification. I had to increase the number of epoches for training as well as tweaked the hyperparameters more. Dice loss function also is a good loss function for imbalanced classes that could be used. Time and my laptop's power were running out and also Google colab is very inconvenient!! I might have to continue working on this later. \n",
    "\n",
    "#### Dice Coefficient \n",
    "could be used as a loss fucntion to get the similarity between the images as I mentioned, however it also could be used out of the DNN as a measure for comparing images:"
   ]
  },
  {
   "cell_type": "code",
   "execution_count": 0,
   "metadata": {
    "colab": {},
    "colab_type": "code",
    "id": "DwGB4bzZyQBj"
   },
   "outputs": [],
   "source": [
    "def dice(mask, out):\n",
    "    smooth = 1\n",
    "    mask = mask.flatten()\n",
    "    out = out.flatten()\n",
    "    intersection = sum(mask * out)\n",
    "    return (2. * intersection + smooth) / (sum(mask) + sum(out) + smooth)"
   ]
  },
  {
   "cell_type": "code",
   "execution_count": 0,
   "metadata": {
    "colab": {},
    "colab_type": "code",
    "id": "J26OxdkOyQBl"
   },
   "outputs": [],
   "source": [
    "mask = plt.imread('masks/IM00499.tif')"
   ]
  },
  {
   "cell_type": "code",
   "execution_count": 0,
   "metadata": {
    "colab": {},
    "colab_type": "code",
    "id": "U2lGpXNxyfzL"
   },
   "outputs": [],
   "source": [
    "out = plt.imread('output/IM00499.tif')"
   ]
  },
  {
   "cell_type": "code",
   "execution_count": 29,
   "metadata": {
    "colab": {
     "base_uri": "https://localhost:8080/",
     "height": 34
    },
    "colab_type": "code",
    "id": "tYBCf_iZ8nQb",
    "outputId": "4ca0e19d-c380-4753-91be-2af7f0a8bfb5"
   },
   "outputs": [
    {
     "name": "stdout",
     "output_type": "stream",
     "text": [
      "Dice coefficient betwwen the real and generated masks: 0.6730021298268358\n"
     ]
    }
   ],
   "source": [
    "print('Dice coefficient betwwen the real and generated masks: {0}'.format(dice(mask, out)))"
   ]
  }
 ],
 "metadata": {
  "accelerator": "GPU",
  "colab": {
   "collapsed_sections": [],
   "name": "mirs.ipynb",
   "provenance": [],
   "toc_visible": true,
   "version": "0.3.2"
  },
  "kernelspec": {
   "display_name": "Python 3",
   "language": "python",
   "name": "python3"
  },
  "language_info": {
   "codemirror_mode": {
    "name": "ipython",
    "version": 3
   },
   "file_extension": ".py",
   "mimetype": "text/x-python",
   "name": "python",
   "nbconvert_exporter": "python",
   "pygments_lexer": "ipython3",
   "version": "3.6.8"
  }
 },
 "nbformat": 4,
 "nbformat_minor": 1
}
